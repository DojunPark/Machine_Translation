{
 "cells": [
  {
   "cell_type": "markdown",
   "metadata": {},
   "source": [
    "# decompress GZIP"
   ]
  },
  {
   "cell_type": "code",
   "execution_count": 4,
   "metadata": {},
   "outputs": [],
   "source": [
    "import gzip, shutil\n",
    "\n",
    "with gzip.open('C:\\\\Users\\\\Dojun Park\\\\Documents\\\\dataset\\\\googlenews.bin.gz', 'r') as f_in, open('C:\\\\Users\\\\Dojun Park\\\\Documents\\\\dataset\\\\googlenews.bin', 'wb') as f_out:\n",
    "  shutil.copyfileobj(f_in, f_out)"
   ]
  },
  {
   "cell_type": "markdown",
   "metadata": {},
   "source": [
    "# load the pretrained Word2Vec"
   ]
  },
  {
   "cell_type": "code",
   "execution_count": 6,
   "metadata": {},
   "outputs": [
    {
     "name": "stdout",
     "output_type": "stream",
     "text": [
      "Collecting gensim\n",
      "  Downloading gensim-3.8.3-cp36-cp36m-win_amd64.whl (24.2 MB)\n",
      "Requirement already satisfied, skipping upgrade: numpy>=1.11.3 in c:\\users\\dojun park\\appdata\\local\\continuum\\anaconda3\\envs\\python36\\lib\\site-packages (from gensim) (1.19.1)\n",
      "Collecting Cython==0.29.14\n",
      "  Downloading Cython-0.29.14-cp36-cp36m-win_amd64.whl (1.7 MB)\n",
      "Requirement already satisfied, skipping upgrade: scipy>=0.18.1 in c:\\users\\dojun park\\appdata\\local\\continuum\\anaconda3\\envs\\python36\\lib\\site-packages (from gensim) (1.5.2)\n",
      "Requirement already satisfied, skipping upgrade: smart-open>=1.8.1 in c:\\users\\dojun park\\appdata\\local\\continuum\\anaconda3\\envs\\python36\\lib\\site-packages (from gensim) (1.9.0)\n",
      "Requirement already satisfied, skipping upgrade: six>=1.5.0 in c:\\users\\dojun park\\appdata\\local\\continuum\\anaconda3\\envs\\python36\\lib\\site-packages (from gensim) (1.15.0)\n",
      "Requirement already satisfied, skipping upgrade: boto3 in c:\\users\\dojun park\\appdata\\local\\continuum\\anaconda3\\envs\\python36\\lib\\site-packages (from smart-open>=1.8.1->gensim) (1.10.44)\n",
      "Requirement already satisfied, skipping upgrade: boto>=2.32 in c:\\users\\dojun park\\appdata\\local\\continuum\\anaconda3\\envs\\python36\\lib\\site-packages (from smart-open>=1.8.1->gensim) (2.49.0)\n",
      "Requirement already satisfied, skipping upgrade: requests in c:\\users\\dojun park\\appdata\\local\\continuum\\anaconda3\\envs\\python36\\lib\\site-packages (from smart-open>=1.8.1->gensim) (2.24.0)\n",
      "Requirement already satisfied, skipping upgrade: s3transfer<0.3.0,>=0.2.0 in c:\\users\\dojun park\\appdata\\local\\continuum\\anaconda3\\envs\\python36\\lib\\site-packages (from boto3->smart-open>=1.8.1->gensim) (0.2.1)\n",
      "Requirement already satisfied, skipping upgrade: botocore<1.14.0,>=1.13.44 in c:\\users\\dojun park\\appdata\\local\\continuum\\anaconda3\\envs\\python36\\lib\\site-packages (from boto3->smart-open>=1.8.1->gensim) (1.13.44)\n",
      "Requirement already satisfied, skipping upgrade: jmespath<1.0.0,>=0.7.1 in c:\\users\\dojun park\\appdata\\local\\continuum\\anaconda3\\envs\\python36\\lib\\site-packages (from boto3->smart-open>=1.8.1->gensim) (0.9.4)\n",
      "Requirement already satisfied, skipping upgrade: urllib3!=1.25.0,!=1.25.1,<1.26,>=1.21.1 in c:\\users\\dojun park\\appdata\\local\\continuum\\anaconda3\\envs\\python36\\lib\\site-packages (from requests->smart-open>=1.8.1->gensim) (1.25.10)\n",
      "Requirement already satisfied, skipping upgrade: chardet<4,>=3.0.2 in c:\\users\\dojun park\\appdata\\local\\continuum\\anaconda3\\envs\\python36\\lib\\site-packages (from requests->smart-open>=1.8.1->gensim) (3.0.4)\n",
      "Requirement already satisfied, skipping upgrade: certifi>=2017.4.17 in c:\\users\\dojun park\\appdata\\local\\continuum\\anaconda3\\envs\\python36\\lib\\site-packages (from requests->smart-open>=1.8.1->gensim) (2020.6.20)\n",
      "Requirement already satisfied, skipping upgrade: idna<3,>=2.5 in c:\\users\\dojun park\\appdata\\local\\continuum\\anaconda3\\envs\\python36\\lib\\site-packages (from requests->smart-open>=1.8.1->gensim) (2.10)\n",
      "Collecting docutils<0.16,>=0.10\n",
      "  Downloading docutils-0.15.2-py3-none-any.whl (547 kB)\n",
      "Requirement already satisfied, skipping upgrade: python-dateutil<3.0.0,>=2.1; python_version >= \"2.7\" in c:\\users\\dojun park\\appdata\\local\\continuum\\anaconda3\\envs\\python36\\lib\\site-packages (from botocore<1.14.0,>=1.13.44->boto3->smart-open>=1.8.1->gensim) (2.8.1)\n",
      "Installing collected packages: Cython, gensim, docutils\n",
      "  Attempting uninstall: Cython\n",
      "    Found existing installation: Cython 0.29.21\n",
      "    Uninstalling Cython-0.29.21:\n",
      "      Successfully uninstalled Cython-0.29.21\n",
      "  Attempting uninstall: gensim\n",
      "    Found existing installation: gensim 3.8.1\n",
      "    Uninstalling gensim-3.8.1:\n",
      "      Successfully uninstalled gensim-3.8.1\n",
      "  Attempting uninstall: docutils\n",
      "    Found existing installation: docutils 0.16\n",
      "    Uninstalling docutils-0.16:\n",
      "      Successfully uninstalled docutils-0.16\n",
      "Successfully installed Cython-0.29.14 docutils-0.15.2 gensim-3.8.3\n"
     ]
    }
   ],
   "source": [
    "!pip install gensim --upgrade"
   ]
  },
  {
   "cell_type": "code",
   "execution_count": 9,
   "metadata": {},
   "outputs": [],
   "source": [
    "import gensim\n",
    "\n",
    "english = gensim.models.KeyedVectors.load_word2vec_format('C:\\\\Users\\\\Dojun Park\\\\Documents\\\\dataset\\\\googlenews.bin', binary=True)\n",
    "korean = gensim.models.Word2Vec.load('C:\\\\Users\\\\Dojun Park\\\\Documents\\\\dataset\\\\ko.bin')"
   ]
  },
  {
   "cell_type": "code",
   "execution_count": 12,
   "metadata": {},
   "outputs": [
    {
     "name": "stdout",
     "output_type": "stream",
     "text": [
      "---english model---\n",
      "[shape] (3000000, 300)\n",
      "[similarity 1] 0.5318406224250793\n",
      "[similarity 2] 0.10528720915317535\n"
     ]
    },
    {
     "name": "stderr",
     "output_type": "stream",
     "text": [
      "C:\\Users\\Dojun Park\\AppData\\Local\\Continuum\\anaconda3\\envs\\python36\\lib\\site-packages\\ipykernel_launcher.py:5: DeprecationWarning: Call to deprecated `wv` (Attribute will be removed in 4.0.0, use self instead).\n",
      "  \"\"\"\n"
     ]
    },
    {
     "name": "stdout",
     "output_type": "stream",
     "text": [
      "[similar words] [('apples', 0.720359742641449), ('pear', 0.6450697183609009), ('fruit', 0.641014575958252), ('berry', 0.6302294135093689), ('pears', 0.6133961081504822), ('strawberry', 0.6058261394500732), ('peach', 0.6025872230529785), ('potato', 0.5960935354232788), ('grape', 0.5935864448547363), ('blueberry', 0.5866668224334717)]\n"
     ]
    }
   ],
   "source": [
    "print('---english model---')\n",
    "print(f'[shape] {english.vectors.shape}')\n",
    "print(f'[similarity 1] {english.similarity(\"apple\", \"banana\")}')\n",
    "print(f'[similarity 2] {english.similarity(\"apple\", \"book\")}')\n",
    "print(f'[similar words] {english.wv.most_similar(\"apple\")}')"
   ]
  },
  {
   "cell_type": "code",
   "execution_count": 14,
   "metadata": {},
   "outputs": [
    {
     "name": "stdout",
     "output_type": "stream",
     "text": [
      "---korean model---\n",
      "[similarity 1] 0.2903890311717987\n",
      "[similarity 2] 0.13177326321601868\n",
      "[similar words] [('사죄', 0.5442899465560913), ('충고', 0.49464157223701477), ('질문', 0.48838871717453003), ('해명', 0.48268449306488037), ('대답', 0.4778830409049988), ('선처', 0.4665257930755615), ('질타', 0.4546084403991699), ('발언', 0.4542806148529053), ('회답', 0.4534079432487488), ('고소', 0.45193421840667725)]"
     ]
    },
    {
     "name": "stderr",
     "output_type": "stream",
     "text": [
      "C:\\Users\\Dojun Park\\AppData\\Local\\Continuum\\anaconda3\\envs\\python36\\lib\\site-packages\\ipykernel_launcher.py:3: DeprecationWarning: Call to deprecated `similarity` (Method will be removed in 4.0.0, use self.wv.similarity() instead).\n",
      "  This is separate from the ipykernel package so we can avoid doing imports until\n",
      "C:\\Users\\Dojun Park\\AppData\\Local\\Continuum\\anaconda3\\envs\\python36\\lib\\site-packages\\ipykernel_launcher.py:4: DeprecationWarning: Call to deprecated `similarity` (Method will be removed in 4.0.0, use self.wv.similarity() instead).\n",
      "  after removing the cwd from sys.path.\n"
     ]
    },
    {
     "name": "stdout",
     "output_type": "stream",
     "text": [
      "\n"
     ]
    }
   ],
   "source": [
    "print('---korean model---')\n",
    "# print(f'[shape] {korean.vectors.shape}')\n",
    "print(f'[similarity 1] {korean.similarity(\"사과\", \"바나나\")}')\n",
    "print(f'[similarity 2] {korean.similarity(\"사과\", \"책\")}')\n",
    "print(f'[similar words] {korean.wv.most_similar(\"사과\")}')"
   ]
  },
  {
   "cell_type": "code",
   "execution_count": 22,
   "metadata": {},
   "outputs": [
    {
     "data": {
      "text/plain": [
       "<gensim.models.keyedvectors.Word2VecKeyedVectors at 0x1e62ba8ea90>"
      ]
     },
     "execution_count": 22,
     "metadata": {},
     "output_type": "execute_result"
    }
   ],
   "source": [
    "english"
   ]
  },
  {
   "cell_type": "code",
   "execution_count": 21,
   "metadata": {},
   "outputs": [
    {
     "data": {
      "text/plain": [
       "<gensim.models.word2vec.Word2Vec at 0x1e72938b0b8>"
      ]
     },
     "execution_count": 21,
     "metadata": {},
     "output_type": "execute_result"
    }
   ],
   "source": [
    "korean"
   ]
  },
  {
   "cell_type": "markdown",
   "metadata": {},
   "source": [
    "- save the models"
   ]
  },
  {
   "cell_type": "code",
   "execution_count": 29,
   "metadata": {},
   "outputs": [
    {
     "name": "stderr",
     "output_type": "stream",
     "text": [
      "C:\\Users\\Dojun Park\\AppData\\Local\\Continuum\\anaconda3\\envs\\python36\\lib\\site-packages\\ipykernel_launcher.py:1: DeprecationWarning: Call to deprecated `wv` (Attribute will be removed in 4.0.0, use self instead).\n",
      "  \"\"\"Entry point for launching an IPython kernel.\n"
     ]
    }
   ],
   "source": [
    "english.wv.save_word2vec_format('C:\\\\Users\\\\Dojun Park\\\\Documents\\\\dataset\\\\eng_w2v')\n",
    "korean.wv.save_word2vec_format('C:\\\\Users\\\\Dojun Park\\\\Documents\\\\dataset\\\\kor_w2v')"
   ]
  },
  {
   "cell_type": "markdown",
   "metadata": {},
   "source": [
    "# Use pretrained Word2Vec as initial embedding"
   ]
  },
  {
   "cell_type": "code",
   "execution_count": 24,
   "metadata": {},
   "outputs": [
    {
     "name": "stdout",
     "output_type": "stream",
     "text": [
      "Collecting torchtext\n",
      "  Downloading torchtext-0.6.0-py3-none-any.whl (64 kB)\n",
      "Requirement already satisfied: requests in c:\\users\\dojun park\\appdata\\local\\continuum\\anaconda3\\envs\\python36\\lib\\site-packages (from torchtext) (2.24.0)\n",
      "Requirement already satisfied: numpy in c:\\users\\dojun park\\appdata\\local\\continuum\\anaconda3\\envs\\python36\\lib\\site-packages (from torchtext) (1.19.1)\n",
      "Requirement already satisfied: six in c:\\users\\dojun park\\appdata\\local\\continuum\\anaconda3\\envs\\python36\\lib\\site-packages (from torchtext) (1.15.0)\n",
      "Collecting sentencepiece\n",
      "  Downloading sentencepiece-0.1.94-cp36-cp36m-win_amd64.whl (1.2 MB)\n",
      "Requirement already satisfied: torch in c:\\users\\dojun park\\appdata\\local\\continuum\\anaconda3\\envs\\python36\\lib\\site-packages (from torchtext) (1.3.1)\n",
      "Requirement already satisfied: tqdm in c:\\users\\dojun park\\appdata\\local\\continuum\\anaconda3\\envs\\python36\\lib\\site-packages (from torchtext) (4.50.2)\n",
      "Requirement already satisfied: idna<3,>=2.5 in c:\\users\\dojun park\\appdata\\local\\continuum\\anaconda3\\envs\\python36\\lib\\site-packages (from requests->torchtext) (2.10)\n",
      "Requirement already satisfied: urllib3!=1.25.0,!=1.25.1,<1.26,>=1.21.1 in c:\\users\\dojun park\\appdata\\local\\continuum\\anaconda3\\envs\\python36\\lib\\site-packages (from requests->torchtext) (1.25.10)\n",
      "Requirement already satisfied: certifi>=2017.4.17 in c:\\users\\dojun park\\appdata\\local\\continuum\\anaconda3\\envs\\python36\\lib\\site-packages (from requests->torchtext) (2020.6.20)\n",
      "Requirement already satisfied: chardet<4,>=3.0.2 in c:\\users\\dojun park\\appdata\\local\\continuum\\anaconda3\\envs\\python36\\lib\\site-packages (from requests->torchtext) (3.0.4)\n",
      "Installing collected packages: sentencepiece, torchtext\n",
      "Successfully installed sentencepiece-0.1.94 torchtext-0.6.0\n"
     ]
    }
   ],
   "source": [
    "!pip install torchtext"
   ]
  },
  {
   "cell_type": "code",
   "execution_count": 25,
   "metadata": {},
   "outputs": [],
   "source": [
    "import torch\n",
    "import torch.nn as nn\n",
    "from torchtext.vocab import Vectors"
   ]
  },
  {
   "cell_type": "code",
   "execution_count": 31,
   "metadata": {},
   "outputs": [
    {
     "name": "stderr",
     "output_type": "stream",
     "text": [
      "  0%|                                                                                      | 0/3000000 [00:00<?, ?it/s]Skipping token b'3000000' with 1-dimensional vector [b'300']; likely a header\n",
      "100%|██████████████████████████████████████████████████████████████████████| 3000000/3000000 [10:34<00:00, 4727.52it/s]\n",
      "  0%|                                                                                        | 0/30185 [00:00<?, ?it/s]Skipping token b'30185' with 1-dimensional vector [b'200']; likely a header\n",
      "100%|██████████████████████████████████████████████████████████████████████████| 30185/30185 [00:04<00:00, 7305.26it/s]\n"
     ]
    }
   ],
   "source": [
    "vectors_en = Vectors(name='C:\\\\Users\\\\Dojun Park\\\\Documents\\\\dataset\\\\eng_w2v')\n",
    "vectors_ko = Vectors(name='C:\\\\Users\\\\Dojun Park\\\\Documents\\\\dataset\\\\kor_w2v')"
   ]
  },
  {
   "cell_type": "code",
   "execution_count": null,
   "metadata": {},
   "outputs": [],
   "source": []
  },
  {
   "cell_type": "code",
   "execution_count": null,
   "metadata": {},
   "outputs": [],
   "source": []
  },
  {
   "cell_type": "code",
   "execution_count": null,
   "metadata": {},
   "outputs": [],
   "source": []
  },
  {
   "cell_type": "code",
   "execution_count": null,
   "metadata": {},
   "outputs": [],
   "source": []
  },
  {
   "cell_type": "code",
   "execution_count": null,
   "metadata": {},
   "outputs": [],
   "source": []
  },
  {
   "cell_type": "code",
   "execution_count": null,
   "metadata": {},
   "outputs": [],
   "source": []
  },
  {
   "cell_type": "code",
   "execution_count": null,
   "metadata": {},
   "outputs": [],
   "source": []
  }
 ],
 "metadata": {
  "kernelspec": {
   "display_name": "Python 3",
   "language": "python",
   "name": "python3"
  },
  "language_info": {
   "codemirror_mode": {
    "name": "ipython",
    "version": 3
   },
   "file_extension": ".py",
   "mimetype": "text/x-python",
   "name": "python",
   "nbconvert_exporter": "python",
   "pygments_lexer": "ipython3",
   "version": "3.6.9"
  }
 },
 "nbformat": 4,
 "nbformat_minor": 4
}
