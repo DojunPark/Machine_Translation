{
  "nbformat": 4,
  "nbformat_minor": 0,
  "metadata": {
    "colab": {
      "name": "diversification of tokenizing method.ipynb",
      "provenance": [],
      "collapsed_sections": [],
      "machine_shape": "hm",
      "include_colab_link": true
    },
    "kernelspec": {
      "name": "python3",
      "display_name": "Python 3"
    }
  },
  "cells": [
    {
      "cell_type": "markdown",
      "metadata": {
        "id": "view-in-github",
        "colab_type": "text"
      },
      "source": [
        "<a href=\"https://colab.research.google.com/github/DojunPark/Machine_Translation/blob/master/14_diversification_of_tokenizing_method.ipynb\" target=\"_parent\"><img src=\"https://colab.research.google.com/assets/colab-badge.svg\" alt=\"Open In Colab\"/></a>"
      ]
    },
    {
      "cell_type": "markdown",
      "metadata": {
        "id": "GruED1nOdPr8"
      },
      "source": [
        "# Drive mount"
      ]
    },
    {
      "cell_type": "code",
      "metadata": {
        "id": "4vrUO3HdyXOn",
        "outputId": "ed89af32-1dab-490a-da1a-14bdf3f37785",
        "colab": {
          "base_uri": "https://localhost:8080/"
        }
      },
      "source": [
        "from google.colab import drive\n",
        "drive.mount('/content/drive')"
      ],
      "execution_count": 53,
      "outputs": [
        {
          "output_type": "stream",
          "text": [
            "Mounted at /content/drive\n"
          ],
          "name": "stdout"
        }
      ]
    },
    {
      "cell_type": "code",
      "metadata": {
        "id": "OauUEeoxz2oq",
        "outputId": "8c35e204-b050-46f4-e76c-5eac0d7b46e1",
        "colab": {
          "base_uri": "https://localhost:8080/"
        }
      },
      "source": [
        "!nvidia-smi    # tesla v100"
      ],
      "execution_count": 2,
      "outputs": [
        {
          "output_type": "stream",
          "text": [
            "Sun Nov  1 05:50:25 2020       \n",
            "+-----------------------------------------------------------------------------+\n",
            "| NVIDIA-SMI 455.32.00    Driver Version: 418.67       CUDA Version: 10.1     |\n",
            "|-------------------------------+----------------------+----------------------+\n",
            "| GPU  Name        Persistence-M| Bus-Id        Disp.A | Volatile Uncorr. ECC |\n",
            "| Fan  Temp  Perf  Pwr:Usage/Cap|         Memory-Usage | GPU-Util  Compute M. |\n",
            "|                               |                      |               MIG M. |\n",
            "|===============================+======================+======================|\n",
            "|   0  Tesla V100-SXM2...  Off  | 00000000:00:04.0 Off |                    0 |\n",
            "| N/A   35C    P0    25W / 300W |      0MiB / 16130MiB |      0%      Default |\n",
            "|                               |                      |                 ERR! |\n",
            "+-------------------------------+----------------------+----------------------+\n",
            "                                                                               \n",
            "+-----------------------------------------------------------------------------+\n",
            "| Processes:                                                                  |\n",
            "|  GPU   GI   CI        PID   Type   Process name                  GPU Memory |\n",
            "|        ID   ID                                                   Usage      |\n",
            "|=============================================================================|\n",
            "|  No running processes found                                                 |\n",
            "+-----------------------------------------------------------------------------+\n"
          ],
          "name": "stdout"
        }
      ]
    },
    {
      "cell_type": "code",
      "metadata": {
        "id": "6fDwKCVqW-j-",
        "outputId": "dd6cfadb-3c48-4c20-e751-413545671bb1",
        "colab": {
          "base_uri": "https://localhost:8080/"
        }
      },
      "source": [
        "from psutil import virtual_memory\n",
        "ram_gb = virtual_memory().total / 1e9\n",
        "print('Your runtime has {:.1f} gigabytes of available RAM\\n'.format(ram_gb))"
      ],
      "execution_count": 5,
      "outputs": [
        {
          "output_type": "stream",
          "text": [
            "Your runtime has 27.4 gigabytes of available RAM\n",
            "\n"
          ],
          "name": "stdout"
        }
      ]
    },
    {
      "cell_type": "markdown",
      "metadata": {
        "id": "GkMsYIUnXRx9"
      },
      "source": [
        "# install hgtk package"
      ]
    },
    {
      "cell_type": "code",
      "metadata": {
        "id": "1WYKEQEOXOwq",
        "outputId": "22d64826-726e-4b6c-b779-8e336eba7e33",
        "colab": {
          "base_uri": "https://localhost:8080/"
        }
      },
      "source": [
        "!pip install hgtk"
      ],
      "execution_count": 5,
      "outputs": [
        {
          "output_type": "stream",
          "text": [
            "Collecting hgtk\n",
            "  Downloading https://files.pythonhosted.org/packages/79/04/04758ed8c086fb1d9a5a267f90239533d33dbc1646ac32f8bf80e38b0ec7/hgtk-0.1.3.tar.gz\n",
            "Building wheels for collected packages: hgtk\n",
            "  Building wheel for hgtk (setup.py) ... \u001b[?25l\u001b[?25hdone\n",
            "  Created wheel for hgtk: filename=hgtk-0.1.3-py2.py3-none-any.whl size=6688 sha256=4ccc2816a29ceb6ef62a172f68dbae24d872d75dd8886d6c5da249a2993db88c\n",
            "  Stored in directory: /root/.cache/pip/wheels/73/72/06/6065a57fe68264f35d7e52e37f56831eb3e9ec75656880de20\n",
            "Successfully built hgtk\n",
            "Installing collected packages: hgtk\n",
            "Successfully installed hgtk-0.1.3\n"
          ],
          "name": "stdout"
        }
      ]
    },
    {
      "cell_type": "code",
      "metadata": {
        "id": "CQ9XrPzUXOub",
        "outputId": "efda90e8-be49-410b-f979-8c91a6ba08b9",
        "colab": {
          "base_uri": "https://localhost:8080/"
        }
      },
      "source": [
        "import hgtk\n",
        "\n",
        "tokens = hgtk.letter.decompose('값')\n",
        "# tokens = list(tokens)\n",
        "print(tokens)\n",
        "print(type(tokens))"
      ],
      "execution_count": 12,
      "outputs": [
        {
          "output_type": "stream",
          "text": [
            "('ㄱ', 'ㅏ', 'ㅄ')\n",
            "<class 'tuple'>\n"
          ],
          "name": "stdout"
        }
      ]
    },
    {
      "cell_type": "code",
      "metadata": {
        "id": "oi-ZftBMXOsD",
        "outputId": "9b7aa7b9-729c-4448-ca3d-59511c6b61b9",
        "colab": {
          "base_uri": "https://localhost:8080/",
          "height": 36
        }
      },
      "source": [
        "hgtk.letter.compose('ㄱ', 'ㅏ', 'ㅄ')"
      ],
      "execution_count": 13,
      "outputs": [
        {
          "output_type": "execute_result",
          "data": {
            "application/vnd.google.colaboratory.intrinsic+json": {
              "type": "string"
            },
            "text/plain": [
              "'값'"
            ]
          },
          "metadata": {
            "tags": []
          },
          "execution_count": 13
        }
      ]
    },
    {
      "cell_type": "code",
      "metadata": {
        "id": "aI_HkyZ1YFtF",
        "outputId": "0a19f633-30fc-4840-a1c5-31c1f1bacd91",
        "colab": {
          "base_uri": "https://localhost:8080/",
          "height": 36
        }
      },
      "source": [
        "hgtk.letter.compose('ㄱ', 'ㅏ', 'ㅁ')"
      ],
      "execution_count": 14,
      "outputs": [
        {
          "output_type": "execute_result",
          "data": {
            "application/vnd.google.colaboratory.intrinsic+json": {
              "type": "string"
            },
            "text/plain": [
              "'감'"
            ]
          },
          "metadata": {
            "tags": []
          },
          "execution_count": 14
        }
      ]
    },
    {
      "cell_type": "code",
      "metadata": {
        "id": "971HIix9aZ_S",
        "outputId": "e16b4f09-e836-4633-c46b-25315ec675d4",
        "colab": {
          "base_uri": "https://localhost:8080/"
        }
      },
      "source": [
        "txt = '안녕하세요 제 이름은 박도준입니다. 영어로는 Dojun이라고 씁니다.'\n",
        "result = hgtk.text.decompose(txt)\n",
        "print(result)"
      ],
      "execution_count": 17,
      "outputs": [
        {
          "output_type": "stream",
          "text": [
            "ㅇㅏㄴᴥㄴㅕㅇᴥㅎㅏᴥㅅㅔᴥㅇㅛᴥ ㅈㅔᴥ ㅇㅣᴥㄹㅡㅁᴥㅇㅡㄴᴥ ㅂㅏㄱᴥㄷㅗᴥㅈㅜㄴᴥㅇㅣㅂᴥㄴㅣᴥㄷㅏᴥ. ㅇㅕㅇᴥㅇㅓᴥㄹㅗᴥㄴㅡㄴᴥ Dojunㅇㅣᴥㄹㅏᴥㄱㅗᴥ ㅆㅡㅂᴥㄴㅣᴥㄷㅏᴥ.\n"
          ],
          "name": "stdout"
        }
      ]
    },
    {
      "cell_type": "code",
      "metadata": {
        "id": "jeMSqqLFa6MF",
        "outputId": "dbfd9382-2f65-48b7-af69-d4c876c68256",
        "colab": {
          "base_uri": "https://localhost:8080/"
        }
      },
      "source": [
        "result2 = hgtk.text.compose(result)\n",
        "print(result2)"
      ],
      "execution_count": 19,
      "outputs": [
        {
          "output_type": "stream",
          "text": [
            "안녕하세요 제 이름은 박도준입니다. 영어로는 Dojun이라고 씁니다.\n"
          ],
          "name": "stdout"
        }
      ]
    },
    {
      "cell_type": "markdown",
      "metadata": {
        "id": "H3nki2-Dz9a7"
      },
      "source": [
        "# SencencePiece Tokenizer"
      ]
    },
    {
      "cell_type": "code",
      "metadata": {
        "id": "Dj9QwByd0IX1",
        "outputId": "c8776623-36ba-4ce2-ee14-7cad55ba77e6",
        "colab": {
          "base_uri": "https://localhost:8080/"
        }
      },
      "source": [
        "!pip install sentencepiece"
      ],
      "execution_count": 51,
      "outputs": [
        {
          "output_type": "stream",
          "text": [
            "Collecting sentencepiece\n",
            "\u001b[?25l  Downloading https://files.pythonhosted.org/packages/e5/2d/6d4ca4bef9a67070fa1cac508606328329152b1df10bdf31fb6e4e727894/sentencepiece-0.1.94-cp36-cp36m-manylinux2014_x86_64.whl (1.1MB)\n",
            "\u001b[K     |████████████████████████████████| 1.1MB 4.9MB/s \n",
            "\u001b[?25hInstalling collected packages: sentencepiece\n",
            "Successfully installed sentencepiece-0.1.94\n"
          ],
          "name": "stdout"
        }
      ]
    },
    {
      "cell_type": "code",
      "metadata": {
        "id": "ZoEDRmta4bIU"
      },
      "source": [
        "!cd /content/drive/My\\ Drive/"
      ],
      "execution_count": 76,
      "outputs": []
    },
    {
      "cell_type": "code",
      "metadata": {
        "id": "cOsIJDxg42Hr",
        "outputId": "6c532ece-e688-4c53-ec21-5a02aacff4e3",
        "colab": {
          "base_uri": "https://localhost:8080/",
          "height": 36
        }
      },
      "source": [
        "pwd"
      ],
      "execution_count": 77,
      "outputs": [
        {
          "output_type": "execute_result",
          "data": {
            "application/vnd.google.colaboratory.intrinsic+json": {
              "type": "string"
            },
            "text/plain": [
              "'/content/drive/My Drive'"
            ]
          },
          "metadata": {
            "tags": []
          },
          "execution_count": 77
        }
      ]
    },
    {
      "cell_type": "markdown",
      "metadata": {
        "id": "t3SnkB4A5Fa_"
      },
      "source": [
        "- 방법1"
      ]
    },
    {
      "cell_type": "code",
      "metadata": {
        "id": "XI2WbU_o3apN"
      },
      "source": [
        "templates= '--input={} \\\n",
        "--pad_id={} \\\n",
        "--bos_id={} \\\n",
        "--eos_id={} \\\n",
        "--unk_id={} \\\n",
        "--model_prefix={} \\\n",
        "--vocab_size={} \\\n",
        "--character_coverage={} \\\n",
        "--model_type={}'\n",
        "\n",
        "train_input_file = \"train.csv\"\n",
        "pad_id=0     #<pad> token을 0으로 설정\n",
        "vocab_size = 20000 # vocab 사이즈\n",
        "prefix = 'm' # 저장될 tokenizer 모델에 붙는 이름\n",
        "bos_id=1     #<start> token을 1으로 설정\n",
        "eos_id=2     #<end> token을 2으로 설정\n",
        "unk_id=3     #<unknown> token을 3으로 설정\n",
        "character_coverage = 1.0   # to reduce character set \n",
        "model_type ='word'         # Choose from unigram (default), bpe, char, or word\n",
        "\n",
        "cmd = templates.format(train_input_file,\n",
        "                pad_id,\n",
        "                bos_id,\n",
        "                eos_id,\n",
        "                unk_id,\n",
        "                prefix,\n",
        "                vocab_size,\n",
        "                character_coverage,\n",
        "                model_type)"
      ],
      "execution_count": 80,
      "outputs": []
    },
    {
      "cell_type": "code",
      "metadata": {
        "id": "IFydWwpd36Th"
      },
      "source": [
        "spm.SentencePieceTrainer.Train(cmd)"
      ],
      "execution_count": 81,
      "outputs": []
    },
    {
      "cell_type": "markdown",
      "metadata": {
        "id": "Lb3g6Qv95LZj"
      },
      "source": [
        "- 방법2"
      ]
    },
    {
      "cell_type": "code",
      "metadata": {
        "id": "9TZgOETlvv2K"
      },
      "source": [
        "import sentencepiece as spm\n",
        "\n",
        "spm.SentencePieceTrainer.train('--input=train.csv --model_prefix=m --vocab_size=20000')"
      ],
      "execution_count": 83,
      "outputs": []
    },
    {
      "cell_type": "markdown",
      "metadata": {
        "id": "eoVROu2F-27J"
      },
      "source": [
        "- load"
      ]
    },
    {
      "cell_type": "code",
      "metadata": {
        "id": "oXXu2ivpvvzo",
        "outputId": "9895c7b1-6405-41b0-9038-2769888823c3",
        "colab": {
          "base_uri": "https://localhost:8080/"
        }
      },
      "source": [
        "sp = spm.SentencePieceProcessor()\n",
        "sp.load('m.model')"
      ],
      "execution_count": 84,
      "outputs": [
        {
          "output_type": "execute_result",
          "data": {
            "text/plain": [
              "True"
            ]
          },
          "metadata": {
            "tags": []
          },
          "execution_count": 84
        }
      ]
    },
    {
      "cell_type": "code",
      "metadata": {
        "id": "QmVCyUrI-4gL",
        "outputId": "ec05e512-ba6d-4c64-8542-78a06d4bbbe4",
        "colab": {
          "base_uri": "https://localhost:8080/"
        }
      },
      "source": [
        "# encode\n",
        "print(sp.encode_as_pieces('This is a test, 이것은 테스트입니다.'))\n",
        "print(sp.encode_as_ids('This is a test, 이것은 테스트입니다.'))\n",
        "\n",
        "# decode\n",
        "print(sp.decode_pieces(['▁', 'This', '▁is', '▁a', '▁test', ',', '▁이것', '은', '▁테스트', '입니다', '.']))\n",
        "print(sp.decode_ids([5, 375, 21, 12, 1430, 3, 12643, 26, 11642, 2348, 24]))"
      ],
      "execution_count": 114,
      "outputs": [
        {
          "output_type": "stream",
          "text": [
            "['▁', 'This', '▁is', '▁a', '▁test', ',', '▁이것', '은', '▁테스트', '입니다', '.']\n",
            "[5, 375, 21, 12, 1430, 3, 12643, 26, 11642, 2348, 24]\n",
            "This is a test, 이것은 테스트입니다.\n",
            "This is a test, 이것은 테스트입니다.\n"
          ],
          "name": "stdout"
        }
      ]
    },
    {
      "cell_type": "markdown",
      "metadata": {
        "id": "5a1GixnOCf_V"
      },
      "source": [
        "# 자모 분리 Tokenizer"
      ]
    },
    {
      "cell_type": "code",
      "metadata": {
        "id": "szD56AD3GG3B"
      },
      "source": [
        "import hgtk\n",
        "\n",
        "def seperate_cv(sentence):\n",
        "    decompossed = hgtk.text.decompose(sentence)\n",
        "    decompossed = decompossed.replace('ᴥ', '')\n",
        "\n",
        "    result = list()\n",
        "    for cv in decompossed:\n",
        "        result.append(cv)\n",
        "\n",
        "    return result"
      ],
      "execution_count": 101,
      "outputs": []
    },
    {
      "cell_type": "markdown",
      "metadata": {
        "id": "vckx-v_JJDnX"
      },
      "source": [
        "# 음절 분리 / 알파벳 분리"
      ]
    },
    {
      "cell_type": "code",
      "metadata": {
        "id": "Od-BTlbiJDa5"
      },
      "source": [
        "def seperate_char(sentence):\n",
        "    sent = sentence.lower()\n",
        "    result = list()\n",
        "    for char in sent:\n",
        "        result.append(char)\n",
        "\n",
        "    return result"
      ],
      "execution_count": 110,
      "outputs": []
    },
    {
      "cell_type": "code",
      "metadata": {
        "id": "f8-OPOSEJDYy",
        "outputId": "5ffff418-aa57-4a56-8af9-7289cc628d32",
        "colab": {
          "base_uri": "https://localhost:8080/"
        }
      },
      "source": [
        "sentence1 = '각 형태소 분석기는 성능과 속도의 차이가 있기에, 본인의 사용 목적에 알맞게 선택하도록 합니다.'\n",
        "sentence2 =\"I am actively looking for Ph.D. students. and you are a Ph.D. student.\"\n",
        "\n",
        "print(seperate_char(sentence1))\n",
        "print(seperate_char(sentence2))"
      ],
      "execution_count": 112,
      "outputs": [
        {
          "output_type": "stream",
          "text": [
            "['각', ' ', '형', '태', '소', ' ', '분', '석', '기', '는', ' ', '성', '능', '과', ' ', '속', '도', '의', ' ', '차', '이', '가', ' ', '있', '기', '에', ',', ' ', '본', '인', '의', ' ', '사', '용', ' ', '목', '적', '에', ' ', '알', '맞', '게', ' ', '선', '택', '하', '도', '록', ' ', '합', '니', '다', '.']\n",
            "['i', ' ', 'a', 'm', ' ', 'a', 'c', 't', 'i', 'v', 'e', 'l', 'y', ' ', 'l', 'o', 'o', 'k', 'i', 'n', 'g', ' ', 'f', 'o', 'r', ' ', 'p', 'h', '.', 'd', '.', ' ', 's', 't', 'u', 'd', 'e', 'n', 't', 's', '.', ' ', 'a', 'n', 'd', ' ', 'y', 'o', 'u', ' ', 'a', 'r', 'e', ' ', 'a', ' ', 'p', 'h', '.', 'd', '.', ' ', 's', 't', 'u', 'd', 'e', 'n', 't', '.']\n"
          ],
          "name": "stdout"
        }
      ]
    },
    {
      "cell_type": "markdown",
      "metadata": {
        "id": "JTOfjRPOKVcX"
      },
      "source": [
        "# 어절 분리\n",
        "- nltk 라이브러리의 word_tokenize() 메소드를 사용하도록 한다"
      ]
    },
    {
      "cell_type": "code",
      "metadata": {
        "id": "NOGCAG3OKVE-",
        "outputId": "1184d241-7401-4f01-a4bf-555e26c35879",
        "colab": {
          "base_uri": "https://localhost:8080/"
        }
      },
      "source": [
        "sentence = '각 형태소 분석기는 성능과 속도의 차이가 있기에, 본인의 사용 목적에 알맞게 선택하도록 합니다.'\n",
        "\n",
        "import nltk\n",
        "sent = nltk.word_tokenize(sentence)\n",
        "print(sent)"
      ],
      "execution_count": 116,
      "outputs": [
        {
          "output_type": "stream",
          "text": [
            "['각', '형태소', '분석기는', '성능과', '속도의', '차이가', '있기에', ',', '본인의', '사용', '목적에', '알맞게', '선택하도록', '합니다', '.']\n"
          ],
          "name": "stdout"
        }
      ]
    }
  ]
}