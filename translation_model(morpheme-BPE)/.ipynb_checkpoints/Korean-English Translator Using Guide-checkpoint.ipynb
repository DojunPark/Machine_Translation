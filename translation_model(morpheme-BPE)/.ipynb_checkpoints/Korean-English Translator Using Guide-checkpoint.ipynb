{
 "cells": [
  {
   "cell_type": "markdown",
   "metadata": {},
   "source": [
    "# Step 0: Install libraries"
   ]
  },
  {
   "cell_type": "markdown",
   "metadata": {},
   "source": [
    "!pip install OpenNMT-py==1.1.1"
   ]
  },
  {
   "cell_type": "markdown",
   "metadata": {},
   "source": [
    "!pip install nltk"
   ]
  },
  {
   "cell_type": "markdown",
   "metadata": {},
   "source": [
    "# Step 1: Preprocessing"
   ]
  },
  {
   "cell_type": "code",
   "execution_count": null,
   "metadata": {},
   "outputs": [],
   "source": [
    "pwd"
   ]
  },
  {
   "cell_type": "code",
   "execution_count": 1,
   "metadata": {},
   "outputs": [],
   "source": [
    "from nltk.tokenize import sent_tokenize \n",
    "\n",
    "#read file\n",
    "f = open('번역할_텍스트.txt', 'r', encoding='utf-8')\n",
    "txt = f.read()\n",
    "f.close()\n",
    "\n",
    "#sentence tokenization\n",
    "sents = sent_tokenize(txt)\n",
    "for i, s in enumerate(sents):\n",
    "    sents[i] = s.replace('\\n', '')\n",
    "\n",
    "sent = '\\n'.join(sents)\n",
    "\n",
    "#write file\n",
    "f = open('번역할_텍스트-1.txt', 'w', encoding='utf-8')\n",
    "f.write(sent)\n",
    "f.close()"
   ]
  },
  {
   "cell_type": "code",
   "execution_count": 2,
   "metadata": {},
   "outputs": [],
   "source": [
    "!python apply_bpe.py -c src.code -i 번역할_텍스트-1.txt -o src-text-bpe.txt"
   ]
  },
  {
   "cell_type": "markdown",
   "metadata": {},
   "source": [
    "# Step 2: Translation"
   ]
  },
  {
   "cell_type": "code",
   "execution_count": 3,
   "metadata": {},
   "outputs": [
    {
     "name": "stdout",
     "output_type": "stream",
     "text": [
      "[2020-12-17 17:14:28,840 INFO] Translating shard 0.\n",
      "/home/dojun/anaconda3/envs/python37/lib/python3.7/site-packages/onmt/translate/greedy_search.py:153: UserWarning: This overload of nonzero is deprecated:\n",
      "\tnonzero()\n",
      "Consider using one of the following signatures instead:\n",
      "\tnonzero(*, bool as_tuple) (Triggered internally at  /pytorch/torch/csrc/utils/python_arg_parser.cpp:882.)\n",
      "  finished_batches = self.is_finished.view(-1).nonzero()\n",
      "\n",
      "SENT 1: ['저는', '건국@@', '대학교', '영어@@', '영@@', '문학@@', '과에', '재학', '중인', '박@@', '도@@', '준@@', '입니다.']\n",
      "PRED 1: \" I am Park Do - jun , a student at Konkuk University 's English literature department . \"\n",
      "PRED SCORE: -0.0964\n",
      "\n",
      "SENT 2: ['서울시가', '지하철', '요금', '인상을', '고려하고', '있다.']\n",
      "PRED 2: The Seoul Metropolitan Government is considering raising subway fares .\n",
      "PRED SCORE: -0.0938\n",
      "\n",
      "SENT 3: ['그', '공연은', '건국@@', '대학교', '새@@', '천@@', '년@@', '관에서', '12월', '31일부터', '2월', '13일까지', '열릴', '것입니다.']\n",
      "PRED 3: The performance will be held from December 31 to February 13 at Konkuk University 's New Millennium Hall .\n",
      "PRED SCORE: -0.0958\n",
      "PRED AVG SCORE: -0.0060, PRED PPL: 1.0060\n"
     ]
    }
   ],
   "source": [
    "!python translate.py -model translation_model.pt -src src-text-bpe.txt -output 번역된_텍스트_후처리전.txt -replace_unk -verbose -beam_size 1"
   ]
  },
  {
   "cell_type": "markdown",
   "metadata": {},
   "source": [
    "# Step 3: Post-processing"
   ]
  },
  {
   "cell_type": "code",
   "execution_count": 4,
   "metadata": {},
   "outputs": [],
   "source": [
    "f = open('번역된_텍스트_후처리전.txt', 'r', encoding='utf-8')\n",
    "txt = f.read()\n",
    "txt = txt.replace(' .', '.')\n",
    "txt = txt.replace(' ,', ',')\n",
    "txt = txt.replace('\"', '')\n",
    "txt = txt.replace(' ?', '?')\n",
    "txt = txt.replace('( ', '(')\n",
    "txt = txt.replace(' )', ')')\n",
    "txt = txt.replace(' - ', '-')\n",
    "txt = txt.replace(\" '\", \"'\")\n",
    "txt = txt.replace(\"' \", \"'\")\n",
    "txt = txt.replace(\"  \", \"\")\n",
    "\n",
    "\n",
    "with open(\"번역된 텍스트_최종.txt\", \"w\") as f:\n",
    "    f.write(txt)"
   ]
  },
  {
   "cell_type": "markdown",
   "metadata": {},
   "source": [
    "# Step 4: Result"
   ]
  },
  {
   "cell_type": "code",
   "execution_count": 5,
   "metadata": {},
   "outputs": [
    {
     "name": "stdout",
     "output_type": "stream",
     "text": [
      " I am Park Do-jun, a student at Konkuk University's English literature department. \n",
      "The Seoul Metropolitan Government is considering raising subway fares.\n",
      "The performance will be held from December 31 to February 13 at Konkuk University's New Millennium Hall.\n",
      "\n"
     ]
    }
   ],
   "source": [
    "print(txt)"
   ]
  },
  {
   "cell_type": "code",
   "execution_count": null,
   "metadata": {},
   "outputs": [],
   "source": []
  },
  {
   "cell_type": "code",
   "execution_count": null,
   "metadata": {},
   "outputs": [],
   "source": []
  },
  {
   "cell_type": "code",
   "execution_count": null,
   "metadata": {},
   "outputs": [],
   "source": []
  }
 ],
 "metadata": {
  "kernelspec": {
   "display_name": "Python 3",
   "language": "python",
   "name": "python3"
  },
  "language_info": {
   "codemirror_mode": {
    "name": "ipython",
    "version": 3
   },
   "file_extension": ".py",
   "mimetype": "text/x-python",
   "name": "python",
   "nbconvert_exporter": "python",
   "pygments_lexer": "ipython3",
   "version": "3.7.9"
  }
 },
 "nbformat": 4,
 "nbformat_minor": 2
}
